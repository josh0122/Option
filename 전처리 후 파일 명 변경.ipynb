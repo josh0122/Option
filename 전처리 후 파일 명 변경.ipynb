{
 "cells": [
  {
   "cell_type": "code",
   "execution_count": 1,
   "metadata": {},
   "outputs": [],
   "source": [
    "import os\n",
    "import cv2\n",
    "import numpy as np\n",
    "from matplotlib import pyplot as plt"
   ]
  },
  {
   "cell_type": "markdown",
   "metadata": {},
   "source": [
    "## 1. Bmp 파일 jpg로 바꿔주기\n",
    "- cmd창에서 cd로 사진들어 있는 폴더로 이동\n",
    "- ren *.bmp *.jpg\n",
    "\n",
    "## 2. file_path에 사진들어 있는 폴더까지 경로지정해주기\n",
    "- C:\\\\ 이렇게 시작해야함"
   ]
  },
  {
   "cell_type": "code",
   "execution_count": 11,
   "metadata": {},
   "outputs": [
    {
     "data": {
      "text/plain": [
       "['aaa.jpg', 'ddd.jpg', 'er.jpg', 'g.jpg', 'ss.jpg']"
      ]
     },
     "execution_count": 11,
     "metadata": {},
     "output_type": "execute_result"
    }
   ],
   "source": [
    "file_path = 'C:/Users/82106/Desktop/process' #사진들어 있는 폴더까지 경로지정해주기\n",
    "file_names = os.listdir(file_path)\n",
    "file_names"
   ]
  },
  {
   "cell_type": "code",
   "execution_count": 12,
   "metadata": {},
   "outputs": [
    {
     "ename": "error",
     "evalue": "OpenCV(4.4.0) C:\\Users\\appveyor\\AppData\\Local\\Temp\\1\\pip-req-build-h4wtvo23\\opencv\\modules\\imgcodecs\\src\\loadsave.cpp:738: error: (-215:Assertion failed) !_img.empty() in function 'cv::imwrite'\n",
     "output_type": "error",
     "traceback": [
      "\u001b[1;31m---------------------------------------------------------------------------\u001b[0m",
      "\u001b[1;31merror\u001b[0m                                     Traceback (most recent call last)",
      "\u001b[1;32m<ipython-input-12-99d2aa618a7f>\u001b[0m in \u001b[0;36m<module>\u001b[1;34m\u001b[0m\n\u001b[0;32m     13\u001b[0m \u001b[1;33m\u001b[0m\u001b[0m\n\u001b[0;32m     14\u001b[0m     \u001b[1;31m# 바꿔서 저장 하기\u001b[0m\u001b[1;33m\u001b[0m\u001b[1;33m\u001b[0m\u001b[1;33m\u001b[0m\u001b[0m\n\u001b[1;32m---> 15\u001b[1;33m     \u001b[0mcv2\u001b[0m\u001b[1;33m.\u001b[0m\u001b[0mimwrite\u001b[0m\u001b[1;33m(\u001b[0m\u001b[0mnew\u001b[0m\u001b[1;33m,\u001b[0m \u001b[0mimage_cropped\u001b[0m\u001b[1;33m)\u001b[0m\u001b[1;33m\u001b[0m\u001b[1;33m\u001b[0m\u001b[0m\n\u001b[0m\u001b[0;32m     16\u001b[0m \u001b[1;33m\u001b[0m\u001b[0m\n\u001b[0;32m     17\u001b[0m \u001b[1;33m\u001b[0m\u001b[0m\n",
      "\u001b[1;31merror\u001b[0m: OpenCV(4.4.0) C:\\Users\\appveyor\\AppData\\Local\\Temp\\1\\pip-req-build-h4wtvo23\\opencv\\modules\\imgcodecs\\src\\loadsave.cpp:738: error: (-215:Assertion failed) !_img.empty() in function 'cv::imwrite'\n"
     ]
    }
   ],
   "source": [
    "i = 1\n",
    "for name in file_names:\n",
    "    src = os.path.join(file_path, name) # 특정 이미지 파일 경로\n",
    "    \n",
    "                                                                                    \n",
    "\n",
    "    # 데이터 전처리 적용하고 싶은거 \n",
    "    image = cv2.imread(src, cv2.IMREAD_GRAYSCALE) \n",
    "    image_cropped = image[10:1750,850:1550]         \n",
    "    \n",
    "    # 바꿔서 저장 하기 \n",
    "    cv2.imwrite(src, image_cropped)\n",
    "    \n",
    "    \n",
    "    # 번호 부여해주기\n",
    "    dst = str(i) + '.jpg'\n",
    "    dst = os.path.join(file_path, dst)\n",
    "    os.rename(src, dst)\n",
    "    i += 1"
   ]
  },
  {
   "cell_type": "code",
   "execution_count": 13,
   "metadata": {},
   "outputs": [
    {
     "name": "stdout",
     "output_type": "stream",
     "text": [
      "C:/Users/82106/Desktop/after/aaa.jpg\n"
     ]
    }
   ],
   "source": [
    "print(new)"
   ]
  },
  {
   "cell_type": "code",
   "execution_count": 14,
   "metadata": {},
   "outputs": [
    {
     "data": {
      "text/plain": [
       "'C:/Users/82106/Desktop/after\\\\1.jpg'"
      ]
     },
     "execution_count": 14,
     "metadata": {},
     "output_type": "execute_result"
    }
   ],
   "source": [
    "dst"
   ]
  },
  {
   "cell_type": "code",
   "execution_count": null,
   "metadata": {},
   "outputs": [],
   "source": []
  },
  {
   "cell_type": "code",
   "execution_count": 38,
   "metadata": {},
   "outputs": [
    {
     "data": {
      "text/plain": [
       "['aaa.jpg', 'ddd.jpg', 'er.jpg', 'g.jpg', 'ss.jpg']"
      ]
     },
     "execution_count": 38,
     "metadata": {},
     "output_type": "execute_result"
    }
   ],
   "source": [
    "file_path = 'C:/Users/82106/Desktop/process'\n",
    "file_path1 = 'C:/Users/82106/Desktop/after'#사진들어 있는 폴더까지 경로지정해주기\n",
    "file_names = os.listdir(file_path)\n",
    "file_names"
   ]
  },
  {
   "cell_type": "code",
   "execution_count": 49,
   "metadata": {},
   "outputs": [
    {
     "ename": "TypeError",
     "evalue": "'NoneType' object is not subscriptable",
     "output_type": "error",
     "traceback": [
      "\u001b[1;31m---------------------------------------------------------------------------\u001b[0m",
      "\u001b[1;31mTypeError\u001b[0m                                 Traceback (most recent call last)",
      "\u001b[1;32m<ipython-input-49-b7298d4102b4>\u001b[0m in \u001b[0;36m<module>\u001b[1;34m\u001b[0m\n\u001b[0;32m      8\u001b[0m     \u001b[0mimage\u001b[0m \u001b[1;33m=\u001b[0m \u001b[0mcv2\u001b[0m\u001b[1;33m.\u001b[0m\u001b[0mimread\u001b[0m\u001b[1;33m(\u001b[0m\u001b[0msrc\u001b[0m\u001b[1;33m,\u001b[0m \u001b[0mcv2\u001b[0m\u001b[1;33m.\u001b[0m\u001b[0mIMREAD_GRAYSCALE\u001b[0m\u001b[1;33m)\u001b[0m\u001b[1;33m\u001b[0m\u001b[1;33m\u001b[0m\u001b[0m\n\u001b[0;32m      9\u001b[0m \u001b[1;33m\u001b[0m\u001b[0m\n\u001b[1;32m---> 10\u001b[1;33m     \u001b[0mimage_cropped\u001b[0m \u001b[1;33m=\u001b[0m \u001b[0mimage\u001b[0m\u001b[1;33m[\u001b[0m\u001b[1;36m10\u001b[0m\u001b[1;33m:\u001b[0m\u001b[1;36m1750\u001b[0m\u001b[1;33m,\u001b[0m\u001b[1;36m850\u001b[0m\u001b[1;33m:\u001b[0m\u001b[1;36m1550\u001b[0m\u001b[1;33m]\u001b[0m\u001b[1;33m\u001b[0m\u001b[1;33m\u001b[0m\u001b[0m\n\u001b[0m\u001b[0;32m     11\u001b[0m \u001b[1;33m\u001b[0m\u001b[0m\n\u001b[0;32m     12\u001b[0m     \u001b[0mplt\u001b[0m\u001b[1;33m.\u001b[0m\u001b[0mimshow\u001b[0m\u001b[1;33m(\u001b[0m\u001b[0mimage\u001b[0m\u001b[1;33m)\u001b[0m\u001b[1;33m,\u001b[0m \u001b[0mplt\u001b[0m\u001b[1;33m.\u001b[0m\u001b[0maxis\u001b[0m\u001b[1;33m(\u001b[0m\u001b[1;34m\"off\"\u001b[0m\u001b[1;33m)\u001b[0m \u001b[1;31m# 이미지를 출력\u001b[0m\u001b[1;33m\u001b[0m\u001b[1;33m\u001b[0m\u001b[0m\n",
      "\u001b[1;31mTypeError\u001b[0m: 'NoneType' object is not subscriptable"
     ]
    }
   ],
   "source": [
    "i = 1\n",
    "for name in file_names:\n",
    "    src = os.path.join(file_path, name) # 특정 이미지 파일 경로\n",
    "    \n",
    "                                                                                    \n",
    "\n",
    "    # 데이터 전처리 적용하고 싶은거 \n",
    "    image = cv2.imread(src, cv2.IMREAD_GRAYSCALE) \n",
    "    \n",
    "    image_cropped = image[10:1750,850:1550] \n",
    "    \n",
    "    plt.imshow(image), plt.axis(\"off\") # 이미지를 출력\n",
    "    plt.show()\n",
    "    \n",
    "    dst = str(i) + '.jpg'\n",
    "    \n",
    "    print(dst)\n",
    "    dst = file_path1 + '/' + dst\n",
    "    print(dst)\n",
    "    # 바꿔서 저장 하기 \n",
    "    cv2.imwrite(dst,image_cropped)\n",
    "    \n",
    "    i += 1\n",
    "    \n",
    "    \n",
    "    # 바뀐사진을 저장하면서 이름을 바꿔\n",
    "    "
   ]
  },
  {
   "cell_type": "code",
   "execution_count": 25,
   "metadata": {},
   "outputs": [
    {
     "data": {
      "text/plain": [
       "'C:/Users/82106/Desktop/after/1.jpg'"
      ]
     },
     "execution_count": 25,
     "metadata": {},
     "output_type": "execute_result"
    }
   ],
   "source": [
    "dst"
   ]
  },
  {
   "cell_type": "code",
   "execution_count": null,
   "metadata": {},
   "outputs": [],
   "source": [
    "      dst = str(i) + '.jpg'\n",
    "    \n",
    "    \n",
    "    print(dst)\n",
    "    dst = \"'\" + file_path1 + '/' + dst + \"'\"\n",
    "    print(dst)\n",
    "    # 바꿔서 저장 하기 "
   ]
  },
  {
   "cell_type": "code",
   "execution_count": null,
   "metadata": {},
   "outputs": [],
   "source": []
  },
  {
   "cell_type": "code",
   "execution_count": null,
   "metadata": {},
   "outputs": [],
   "source": [
    "i = 1\n",
    "\n",
    "file_path1 = Path('C:/Users/IME/Desktop/aaa/')#사진들어 있는 폴더까지 경로지정해주기\n",
    "\n",
    "for name in file_names:\n",
    "\n",
    " \n",
    "\n",
    "    src = os.path.join(file_path, name) # 특정 이미지 파일 경로\n",
    "\n",
    "                                                                           \n",
    "\n",
    "    # 데이터 전처리 적용하고 싶은거 \n",
    "\n",
    " \n",
    "\n",
    "    image = cv2.imread(src, cv2.IMREAD_GRAYSCALE) \n",
    "\n",
    " \n",
    "\n",
    "    image_cropped = image[10:1750,850:1550]         \n",
    "\n",
    " \n",
    "\n",
    "    \n",
    "\n",
    "    dst = str(i) + '.jpg'\n",
    "\n",
    " \n",
    "\n",
    " \n",
    "\n",
    " \n",
    "\n",
    "    print(dst)\n",
    "\n",
    " \n",
    "\n",
    "    dst = os.path.join(file_path1, dst) \n",
    "\n",
    "    cv2.imwrite(dst,image_cropped)\n",
    "\n",
    "    cv2.waitKey(0)\n",
    "\n",
    "  \n",
    "\n",
    " \n",
    "\n",
    "    i += 1\n",
    "\n",
    "    "
   ]
  }
 ],
 "metadata": {
  "kernelspec": {
   "display_name": "Python 3",
   "language": "python",
   "name": "python3"
  },
  "language_info": {
   "codemirror_mode": {
    "name": "ipython",
    "version": 3
   },
   "file_extension": ".py",
   "mimetype": "text/x-python",
   "name": "python",
   "nbconvert_exporter": "python",
   "pygments_lexer": "ipython3",
   "version": "3.8.3"
  }
 },
 "nbformat": 4,
 "nbformat_minor": 4
}
